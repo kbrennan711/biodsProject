{
 "cells": [
  {
   "cell_type": "markdown",
   "id": "6980c732-3028-4896-a7bb-467bfe28cbab",
   "metadata": {},
   "source": [
    "# Image Features Exploration\n",
    "#### Authors: Shanduojiao Jiang (sj99@stanford.edu), Kelly Brennan (kbrenn@stanford.edu)"
   ]
  },
  {
   "cell_type": "code",
   "execution_count": 1,
   "id": "c12a7f32-2e88-4e3e-b1a9-e54c1e8dce07",
   "metadata": {},
   "outputs": [],
   "source": [
    "import sys\n",
    "import numpy as np\n",
    "import pandas as pd\n",
    "import tensorflow as tf\n",
    "import matplotlib.pyplot as plt\n",
    "from sklearn import metrics\n",
    "from sklearn.linear_model import LogisticRegression\n",
    "from sklearn.model_selection import train_test_split\n",
    "from sklearn.metrics import accuracy_score, recall_score, precision_score"
   ]
  },
  {
   "cell_type": "code",
   "execution_count": 2,
   "id": "d2051059-3840-428e-bae9-8f724f83651c",
   "metadata": {},
   "outputs": [],
   "source": [
    "# Section 1: Data Processing"
   ]
  },
  {
   "cell_type": "code",
   "execution_count": 3,
   "id": "ffdbb4bd-4dc0-4af7-a423-f21406b28591",
   "metadata": {},
   "outputs": [],
   "source": [
    "# Read in the clinical data\n",
    "dfClinic = pd.read_excel(\"../data/Clinical_and_Other_Features.xlsx\", sheet_name=\"Data\", header=1, skiprows=[2])\n",
    "# dfClinic[:5]"
   ]
  },
  {
   "cell_type": "code",
   "execution_count": 4,
   "id": "d3e810ae-7482-45a7-b6be-1cbd93649f8b",
   "metadata": {},
   "outputs": [
    {
     "data": {
      "text/html": [
       "<div>\n",
       "<style scoped>\n",
       "    .dataframe tbody tr th:only-of-type {\n",
       "        vertical-align: middle;\n",
       "    }\n",
       "\n",
       "    .dataframe tbody tr th {\n",
       "        vertical-align: top;\n",
       "    }\n",
       "\n",
       "    .dataframe thead th {\n",
       "        text-align: right;\n",
       "    }\n",
       "</style>\n",
       "<table border=\"1\" class=\"dataframe\">\n",
       "  <thead>\n",
       "    <tr style=\"text-align: right;\">\n",
       "      <th></th>\n",
       "      <th>Patient ID</th>\n",
       "      <th>F1_DT_POSTCON (T11=0.05,T12=0.5)</th>\n",
       "      <th>F1_DT_POSTCON (T11=0.05,T12=0.1)</th>\n",
       "      <th>F1_DT_POSTCON (T11=0.02,T12=0.5)</th>\n",
       "      <th>F1_DT_POSTCON (T11=0.02,T12=0.8)</th>\n",
       "      <th>F1_DT_POSTCON (T11=0.05,T12=0.8)</th>\n",
       "      <th>F1_DT_POSTCON (T11=0.1,T12=0.5)</th>\n",
       "      <th>F1_DT_POSTCON (T11=0.1,T12=0.8)</th>\n",
       "      <th>F1_DT_POSTCON (T11=0.2,T12=0.5)</th>\n",
       "      <th>F1_DT_POSTCON (T11=0.2,T12=0.8)</th>\n",
       "      <th>...</th>\n",
       "      <th>WashinRate_map_difference_entropy_tissue_PostCon</th>\n",
       "      <th>WashinRate_map_information_measure_correlation1_tissue_PostCon</th>\n",
       "      <th>WashinRate_map_information_measure_correlation2_tissue_PostCon</th>\n",
       "      <th>WashinRate_map_inverse_difference_is_homom_tissue_PostCon</th>\n",
       "      <th>WashinRate_map_inverse_difference_normalized_tissue_PostCon</th>\n",
       "      <th>WashinRate_map_inverse_difference_moment_normalized_tissue_PostCon</th>\n",
       "      <th>WashinRate_map_mean_tissue_PostCon</th>\n",
       "      <th>WashinRate_map_std_dev_tissue_PostCon</th>\n",
       "      <th>WashinRate_map_skewness_tissue_PostCon</th>\n",
       "      <th>WashinRate_map_kurtosis_tissue_PostCon</th>\n",
       "    </tr>\n",
       "  </thead>\n",
       "  <tbody>\n",
       "    <tr>\n",
       "      <th>0</th>\n",
       "      <td>Breast_MRI_001</td>\n",
       "      <td>1.000000</td>\n",
       "      <td>0.120721</td>\n",
       "      <td>0.530395</td>\n",
       "      <td>1.000000</td>\n",
       "      <td>1.000000</td>\n",
       "      <td>1.000000</td>\n",
       "      <td>1.000000</td>\n",
       "      <td>1.000000</td>\n",
       "      <td>1.00000</td>\n",
       "      <td>...</td>\n",
       "      <td>3.380663</td>\n",
       "      <td>-0.025575</td>\n",
       "      <td>0.422391</td>\n",
       "      <td>0.171959</td>\n",
       "      <td>0.960359</td>\n",
       "      <td>0.996829</td>\n",
       "      <td>14.517894</td>\n",
       "      <td>20.347506</td>\n",
       "      <td>1.625870</td>\n",
       "      <td>11.406955</td>\n",
       "    </tr>\n",
       "    <tr>\n",
       "      <th>1</th>\n",
       "      <td>Breast_MRI_002</td>\n",
       "      <td>1.000000</td>\n",
       "      <td>0.129546</td>\n",
       "      <td>0.485217</td>\n",
       "      <td>1.000000</td>\n",
       "      <td>1.000000</td>\n",
       "      <td>1.000000</td>\n",
       "      <td>1.000000</td>\n",
       "      <td>1.000000</td>\n",
       "      <td>1.00000</td>\n",
       "      <td>...</td>\n",
       "      <td>3.444474</td>\n",
       "      <td>-0.036063</td>\n",
       "      <td>0.505652</td>\n",
       "      <td>0.177087</td>\n",
       "      <td>0.959067</td>\n",
       "      <td>0.996363</td>\n",
       "      <td>47.297950</td>\n",
       "      <td>83.909561</td>\n",
       "      <td>0.251498</td>\n",
       "      <td>5.659428</td>\n",
       "    </tr>\n",
       "    <tr>\n",
       "      <th>2</th>\n",
       "      <td>Breast_MRI_003</td>\n",
       "      <td>0.174775</td>\n",
       "      <td>0.062051</td>\n",
       "      <td>0.069910</td>\n",
       "      <td>0.132265</td>\n",
       "      <td>0.330662</td>\n",
       "      <td>0.349550</td>\n",
       "      <td>0.661324</td>\n",
       "      <td>0.699100</td>\n",
       "      <td>1.00000</td>\n",
       "      <td>...</td>\n",
       "      <td>3.478455</td>\n",
       "      <td>-0.043730</td>\n",
       "      <td>0.546674</td>\n",
       "      <td>0.170507</td>\n",
       "      <td>0.957527</td>\n",
       "      <td>0.995981</td>\n",
       "      <td>114.171582</td>\n",
       "      <td>129.252343</td>\n",
       "      <td>1.928743</td>\n",
       "      <td>11.554948</td>\n",
       "    </tr>\n",
       "    <tr>\n",
       "      <th>3</th>\n",
       "      <td>Breast_MRI_004</td>\n",
       "      <td>0.086546</td>\n",
       "      <td>0.045111</td>\n",
       "      <td>0.034619</td>\n",
       "      <td>0.051265</td>\n",
       "      <td>0.128162</td>\n",
       "      <td>0.173093</td>\n",
       "      <td>0.256325</td>\n",
       "      <td>0.346185</td>\n",
       "      <td>0.51265</td>\n",
       "      <td>...</td>\n",
       "      <td>3.389678</td>\n",
       "      <td>-0.017802</td>\n",
       "      <td>0.363818</td>\n",
       "      <td>0.177210</td>\n",
       "      <td>0.960705</td>\n",
       "      <td>0.996827</td>\n",
       "      <td>33.499175</td>\n",
       "      <td>69.164227</td>\n",
       "      <td>1.171314</td>\n",
       "      <td>8.493319</td>\n",
       "    </tr>\n",
       "    <tr>\n",
       "      <th>4</th>\n",
       "      <td>Breast_MRI_005</td>\n",
       "      <td>0.289669</td>\n",
       "      <td>0.052031</td>\n",
       "      <td>0.115868</td>\n",
       "      <td>0.378575</td>\n",
       "      <td>0.839984</td>\n",
       "      <td>0.579338</td>\n",
       "      <td>1.000000</td>\n",
       "      <td>0.958287</td>\n",
       "      <td>1.00000</td>\n",
       "      <td>...</td>\n",
       "      <td>4.009938</td>\n",
       "      <td>-0.049294</td>\n",
       "      <td>0.603426</td>\n",
       "      <td>0.117966</td>\n",
       "      <td>0.930624</td>\n",
       "      <td>0.989135</td>\n",
       "      <td>34.406635</td>\n",
       "      <td>26.951415</td>\n",
       "      <td>0.985464</td>\n",
       "      <td>4.331451</td>\n",
       "    </tr>\n",
       "  </tbody>\n",
       "</table>\n",
       "<p>5 rows × 530 columns</p>\n",
       "</div>"
      ],
      "text/plain": [
       "       Patient ID  F1_DT_POSTCON (T11=0.05,T12=0.5)  \\\n",
       "0  Breast_MRI_001                          1.000000   \n",
       "1  Breast_MRI_002                          1.000000   \n",
       "2  Breast_MRI_003                          0.174775   \n",
       "3  Breast_MRI_004                          0.086546   \n",
       "4  Breast_MRI_005                          0.289669   \n",
       "\n",
       "   F1_DT_POSTCON (T11=0.05,T12=0.1)  F1_DT_POSTCON (T11=0.02,T12=0.5)  \\\n",
       "0                          0.120721                          0.530395   \n",
       "1                          0.129546                          0.485217   \n",
       "2                          0.062051                          0.069910   \n",
       "3                          0.045111                          0.034619   \n",
       "4                          0.052031                          0.115868   \n",
       "\n",
       "   F1_DT_POSTCON (T11=0.02,T12=0.8)  F1_DT_POSTCON (T11=0.05,T12=0.8)  \\\n",
       "0                          1.000000                          1.000000   \n",
       "1                          1.000000                          1.000000   \n",
       "2                          0.132265                          0.330662   \n",
       "3                          0.051265                          0.128162   \n",
       "4                          0.378575                          0.839984   \n",
       "\n",
       "   F1_DT_POSTCON (T11=0.1,T12=0.5)  F1_DT_POSTCON (T11=0.1,T12=0.8)  \\\n",
       "0                         1.000000                         1.000000   \n",
       "1                         1.000000                         1.000000   \n",
       "2                         0.349550                         0.661324   \n",
       "3                         0.173093                         0.256325   \n",
       "4                         0.579338                         1.000000   \n",
       "\n",
       "   F1_DT_POSTCON (T11=0.2,T12=0.5)  F1_DT_POSTCON (T11=0.2,T12=0.8)  ...  \\\n",
       "0                         1.000000                          1.00000  ...   \n",
       "1                         1.000000                          1.00000  ...   \n",
       "2                         0.699100                          1.00000  ...   \n",
       "3                         0.346185                          0.51265  ...   \n",
       "4                         0.958287                          1.00000  ...   \n",
       "\n",
       "   WashinRate_map_difference_entropy_tissue_PostCon  \\\n",
       "0                                          3.380663   \n",
       "1                                          3.444474   \n",
       "2                                          3.478455   \n",
       "3                                          3.389678   \n",
       "4                                          4.009938   \n",
       "\n",
       "   WashinRate_map_information_measure_correlation1_tissue_PostCon  \\\n",
       "0                                          -0.025575                \n",
       "1                                          -0.036063                \n",
       "2                                          -0.043730                \n",
       "3                                          -0.017802                \n",
       "4                                          -0.049294                \n",
       "\n",
       "   WashinRate_map_information_measure_correlation2_tissue_PostCon  \\\n",
       "0                                           0.422391                \n",
       "1                                           0.505652                \n",
       "2                                           0.546674                \n",
       "3                                           0.363818                \n",
       "4                                           0.603426                \n",
       "\n",
       "   WashinRate_map_inverse_difference_is_homom_tissue_PostCon  \\\n",
       "0                                           0.171959           \n",
       "1                                           0.177087           \n",
       "2                                           0.170507           \n",
       "3                                           0.177210           \n",
       "4                                           0.117966           \n",
       "\n",
       "   WashinRate_map_inverse_difference_normalized_tissue_PostCon  \\\n",
       "0                                           0.960359             \n",
       "1                                           0.959067             \n",
       "2                                           0.957527             \n",
       "3                                           0.960705             \n",
       "4                                           0.930624             \n",
       "\n",
       "   WashinRate_map_inverse_difference_moment_normalized_tissue_PostCon  \\\n",
       "0                                           0.996829                    \n",
       "1                                           0.996363                    \n",
       "2                                           0.995981                    \n",
       "3                                           0.996827                    \n",
       "4                                           0.989135                    \n",
       "\n",
       "   WashinRate_map_mean_tissue_PostCon  WashinRate_map_std_dev_tissue_PostCon  \\\n",
       "0                           14.517894                              20.347506   \n",
       "1                           47.297950                              83.909561   \n",
       "2                          114.171582                             129.252343   \n",
       "3                           33.499175                              69.164227   \n",
       "4                           34.406635                              26.951415   \n",
       "\n",
       "   WashinRate_map_skewness_tissue_PostCon  \\\n",
       "0                                1.625870   \n",
       "1                                0.251498   \n",
       "2                                1.928743   \n",
       "3                                1.171314   \n",
       "4                                0.985464   \n",
       "\n",
       "   WashinRate_map_kurtosis_tissue_PostCon  \n",
       "0                               11.406955  \n",
       "1                                5.659428  \n",
       "2                               11.554948  \n",
       "3                                8.493319  \n",
       "4                                4.331451  \n",
       "\n",
       "[5 rows x 530 columns]"
      ]
     },
     "execution_count": 4,
     "metadata": {},
     "output_type": "execute_result"
    }
   ],
   "source": [
    "# Read in Image Features file\n",
    "imageFeat = pd.read_excel(\"../data/Imaging_Features.xlsx\")\n",
    "imageFeat[:5]"
   ]
  },
  {
   "cell_type": "code",
   "execution_count": 5,
   "id": "0615e0d1-ce1b-4685-988d-4ac9174f9d20",
   "metadata": {},
   "outputs": [
    {
     "data": {
      "text/plain": [
       "Index(['Patient ID', 'F1_DT_POSTCON (T11=0.05,T12=0.5)',\n",
       "       'F1_DT_POSTCON (T11=0.05,T12=0.1)', 'F1_DT_POSTCON (T11=0.02,T12=0.5)',\n",
       "       'F1_DT_POSTCON (T11=0.02,T12=0.8)', 'F1_DT_POSTCON (T11=0.05,T12=0.8)',\n",
       "       'F1_DT_POSTCON (T11=0.1,T12=0.5)', 'F1_DT_POSTCON (T11=0.1,T12=0.8)',\n",
       "       'F1_DT_POSTCON (T11=0.2,T12=0.5)', 'F1_DT_POSTCON (T11=0.2,T12=0.8)',\n",
       "       ...\n",
       "       'WashinRate_map_difference_entropy_tissue_PostCon',\n",
       "       'WashinRate_map_information_measure_correlation1_tissue_PostCon',\n",
       "       'WashinRate_map_information_measure_correlation2_tissue_PostCon',\n",
       "       'WashinRate_map_inverse_difference_is_homom_tissue_PostCon',\n",
       "       'WashinRate_map_inverse_difference_normalized_tissue_PostCon',\n",
       "       'WashinRate_map_inverse_difference_moment_normalized_tissue_PostCon',\n",
       "       'WashinRate_map_mean_tissue_PostCon',\n",
       "       'WashinRate_map_std_dev_tissue_PostCon',\n",
       "       'WashinRate_map_skewness_tissue_PostCon',\n",
       "       'WashinRate_map_kurtosis_tissue_PostCon'],\n",
       "      dtype='object', length=530)"
      ]
     },
     "execution_count": 5,
     "metadata": {},
     "output_type": "execute_result"
    }
   ],
   "source": [
    "# List of columns\n",
    "imageFeat.columns"
   ]
  },
  {
   "cell_type": "markdown",
   "id": "9b818f48-fec5-4391-9dc6-26571f6ec87c",
   "metadata": {},
   "source": [
    "#### Generating binary labels for recurrence, readmission, and death"
   ]
  },
  {
   "cell_type": "code",
   "execution_count": 6,
   "id": "65994dc8-9761-49a8-839d-219c129250dc",
   "metadata": {},
   "outputs": [],
   "source": [
    "local_recur = dfClinic[\"Days to local recurrence (from the date of diagnosis) \"].tolist()\n",
    "local_recur_label = [0 if r == \"NP\" else 1 for r in local_recur]"
   ]
  },
  {
   "cell_type": "code",
   "execution_count": 7,
   "id": "845c7de2-e563-4617-8db2-6882dfbfa083",
   "metadata": {},
   "outputs": [],
   "source": [
    "dist_recur = dfClinic['Days to distant recurrence(from the date of diagnosis) '].to_list()\n",
    "dist_recur_label = [0 if r == \"NP\" else 1 for r in dist_recur]"
   ]
  },
  {
   "cell_type": "code",
   "execution_count": 8,
   "id": "d0ad775e-c6a8-49b4-8b66-1587805c4fe5",
   "metadata": {},
   "outputs": [],
   "source": [
    "death = dfClinic['Days to death (from the date of diagnosis) '].to_list()\n",
    "death_label = [0 if r == \"NP\" else 1 for r in death]"
   ]
  },
  {
   "cell_type": "code",
   "execution_count": 9,
   "id": "e6ddff02-7d61-430a-9a75-599ce4277bba",
   "metadata": {},
   "outputs": [
    {
     "name": "stdout",
     "output_type": "stream",
     "text": [
      "0 1\n"
     ]
    }
   ],
   "source": [
    "labels = pd.DataFrame()\n",
    "\n",
    "labels[\"local_recur_label\"] = local_recur_label\n",
    "labels[\"dist_recur_label\"] = dist_recur_label\n",
    "labels[\"death_label\"] = death_label\n",
    "\n",
    "# Combining local and distance recurrence\n",
    "labels[\"recurrence\"] = labels[\"local_recur_label\"] + labels[\"dist_recur_label\"]\n",
    "labels.loc[labels[\"recurrence\"] == 2] = 1\n",
    "print(min(labels[\"recurrence\"]), max(labels[\"recurrence\"]))"
   ]
  },
  {
   "cell_type": "markdown",
   "id": "0f99d8de-6c2d-44f9-8385-32e1e8dfe67d",
   "metadata": {},
   "source": [
    "Investigating the distribution of the labels and our data"
   ]
  },
  {
   "cell_type": "code",
   "execution_count": 10,
   "id": "65a1abf8-b582-4846-b103-8a281df3c30d",
   "metadata": {},
   "outputs": [
    {
     "name": "stdout",
     "output_type": "stream",
     "text": [
      "922\n",
      "16\n",
      "76\n",
      "62\n",
      "(922, 530)\n"
     ]
    }
   ],
   "source": [
    "N = len(imageFeat)\n",
    "print(N)\n",
    "print(np.sum(labels[\"local_recur_label\"]))\n",
    "print(np.sum(labels[\"dist_recur_label\"]))\n",
    "print(np.sum(labels[\"death_label\"]))\n",
    "print(imageFeat.shape)"
   ]
  },
  {
   "cell_type": "markdown",
   "id": "e829c2ce-52f3-4e9b-9310-50097d22bac6",
   "metadata": {},
   "source": [
    "Shaping the Data into data(x) and labels(Y)"
   ]
  },
  {
   "cell_type": "code",
   "execution_count": 11,
   "id": "4fe1653d-c503-4709-8785-5b762225e293",
   "metadata": {},
   "outputs": [
    {
     "name": "stderr",
     "output_type": "stream",
     "text": [
      "2022-12-05 21:45:51.294556: I tensorflow/stream_executor/cuda/cuda_gpu_executor.cc:937] successful NUMA node read from SysFS had negative value (-1), but there must be at least one NUMA node, so returning NUMA node zero\n",
      "2022-12-05 21:45:51.404074: I tensorflow/stream_executor/cuda/cuda_gpu_executor.cc:937] successful NUMA node read from SysFS had negative value (-1), but there must be at least one NUMA node, so returning NUMA node zero\n",
      "2022-12-05 21:45:51.405861: I tensorflow/stream_executor/cuda/cuda_gpu_executor.cc:937] successful NUMA node read from SysFS had negative value (-1), but there must be at least one NUMA node, so returning NUMA node zero\n",
      "2022-12-05 21:45:51.409687: I tensorflow/core/platform/cpu_feature_guard.cc:142] This TensorFlow binary is optimized with oneAPI Deep Neural Network Library (oneDNN) to use the following CPU instructions in performance-critical operations:  AVX2 AVX512F FMA\n",
      "To enable them in other operations, rebuild TensorFlow with the appropriate compiler flags.\n",
      "2022-12-05 21:45:51.410492: I tensorflow/stream_executor/cuda/cuda_gpu_executor.cc:937] successful NUMA node read from SysFS had negative value (-1), but there must be at least one NUMA node, so returning NUMA node zero\n",
      "2022-12-05 21:45:51.412256: I tensorflow/stream_executor/cuda/cuda_gpu_executor.cc:937] successful NUMA node read from SysFS had negative value (-1), but there must be at least one NUMA node, so returning NUMA node zero\n",
      "2022-12-05 21:45:51.413970: I tensorflow/stream_executor/cuda/cuda_gpu_executor.cc:937] successful NUMA node read from SysFS had negative value (-1), but there must be at least one NUMA node, so returning NUMA node zero\n",
      "2022-12-05 21:45:53.085769: I tensorflow/stream_executor/cuda/cuda_gpu_executor.cc:937] successful NUMA node read from SysFS had negative value (-1), but there must be at least one NUMA node, so returning NUMA node zero\n",
      "2022-12-05 21:45:53.087881: I tensorflow/stream_executor/cuda/cuda_gpu_executor.cc:937] successful NUMA node read from SysFS had negative value (-1), but there must be at least one NUMA node, so returning NUMA node zero\n",
      "2022-12-05 21:45:53.089588: I tensorflow/stream_executor/cuda/cuda_gpu_executor.cc:937] successful NUMA node read from SysFS had negative value (-1), but there must be at least one NUMA node, so returning NUMA node zero\n",
      "2022-12-05 21:45:53.091305: I tensorflow/core/common_runtime/gpu/gpu_device.cc:1510] Created device /job:localhost/replica:0/task:0/device:GPU:0 with 13642 MB memory:  -> device: 0, name: Tesla T4, pci bus id: 0000:00:04.0, compute capability: 7.5\n"
     ]
    }
   ],
   "source": [
    "data = imageFeat.loc[:, imageFeat.columns != \"Patient ID\"]\n",
    "data.head()\n",
    "X = tf.convert_to_tensor(data)\n",
    "Y = tf.convert_to_tensor(labels[\"recurrence\"])"
   ]
  },
  {
   "cell_type": "markdown",
   "id": "9c8c92bf-bf17-441c-b9a6-2e14b5ae8b81",
   "metadata": {},
   "source": [
    "# Section 3: Exploring a model"
   ]
  },
  {
   "cell_type": "markdown",
   "id": "000ed6f5-1b84-40b4-9eb2-bf7786b76e1f",
   "metadata": {},
   "source": [
    "Model setup"
   ]
  },
  {
   "cell_type": "code",
   "execution_count": 25,
   "id": "f933e982-5f30-48a4-a149-7a7d7132ebd8",
   "metadata": {},
   "outputs": [
    {
     "ename": "ValueError",
     "evalue": "When setting `include_top=True` and loading `imagenet` weights, `input_shape` should be (224, 224, 3).",
     "output_type": "error",
     "traceback": [
      "\u001b[0;31m---------------------------------------------------------------------------\u001b[0m",
      "\u001b[0;31mValueError\u001b[0m                                Traceback (most recent call last)",
      "\u001b[0;32m/tmp/ipykernel_1691/129745157.py\u001b[0m in \u001b[0;36m<module>\u001b[0;34m\u001b[0m\n\u001b[0;32m----> 1\u001b[0;31m \u001b[0mmodel\u001b[0m \u001b[0;34m=\u001b[0m \u001b[0mtf\u001b[0m\u001b[0;34m.\u001b[0m\u001b[0mkeras\u001b[0m\u001b[0;34m.\u001b[0m\u001b[0mapplications\u001b[0m\u001b[0;34m.\u001b[0m\u001b[0mresnet50\u001b[0m\u001b[0;34m.\u001b[0m\u001b[0mResNet50\u001b[0m\u001b[0;34m(\u001b[0m\u001b[0minput_shape\u001b[0m \u001b[0;34m=\u001b[0m \u001b[0;34m(\u001b[0m\u001b[0;32mNone\u001b[0m\u001b[0;34m,\u001b[0m \u001b[0;36m529\u001b[0m\u001b[0;34m)\u001b[0m\u001b[0;34m)\u001b[0m\u001b[0;34m\u001b[0m\u001b[0;34m\u001b[0m\u001b[0m\n\u001b[0m",
      "\u001b[0;32m/opt/conda/lib/python3.7/site-packages/keras/applications/resnet.py\u001b[0m in \u001b[0;36mResNet50\u001b[0;34m(include_top, weights, input_tensor, input_shape, pooling, classes, **kwargs)\u001b[0m\n\u001b[1;32m    457\u001b[0m \u001b[0;34m\u001b[0m\u001b[0m\n\u001b[1;32m    458\u001b[0m   return ResNet(stack_fn, False, True, 'resnet50', include_top, weights,\n\u001b[0;32m--> 459\u001b[0;31m                 input_tensor, input_shape, pooling, classes, **kwargs)\n\u001b[0m\u001b[1;32m    460\u001b[0m \u001b[0;34m\u001b[0m\u001b[0m\n\u001b[1;32m    461\u001b[0m \u001b[0;34m\u001b[0m\u001b[0m\n",
      "\u001b[0;32m/opt/conda/lib/python3.7/site-packages/keras/applications/resnet.py\u001b[0m in \u001b[0;36mResNet\u001b[0;34m(stack_fn, preact, use_bias, model_name, include_top, weights, input_tensor, input_shape, pooling, classes, classifier_activation, **kwargs)\u001b[0m\n\u001b[1;32m    139\u001b[0m       \u001b[0mdata_format\u001b[0m\u001b[0;34m=\u001b[0m\u001b[0mbackend\u001b[0m\u001b[0;34m.\u001b[0m\u001b[0mimage_data_format\u001b[0m\u001b[0;34m(\u001b[0m\u001b[0;34m)\u001b[0m\u001b[0;34m,\u001b[0m\u001b[0;34m\u001b[0m\u001b[0;34m\u001b[0m\u001b[0m\n\u001b[1;32m    140\u001b[0m       \u001b[0mrequire_flatten\u001b[0m\u001b[0;34m=\u001b[0m\u001b[0minclude_top\u001b[0m\u001b[0;34m,\u001b[0m\u001b[0;34m\u001b[0m\u001b[0;34m\u001b[0m\u001b[0m\n\u001b[0;32m--> 141\u001b[0;31m       weights=weights)\n\u001b[0m\u001b[1;32m    142\u001b[0m \u001b[0;34m\u001b[0m\u001b[0m\n\u001b[1;32m    143\u001b[0m   \u001b[0;32mif\u001b[0m \u001b[0minput_tensor\u001b[0m \u001b[0;32mis\u001b[0m \u001b[0;32mNone\u001b[0m\u001b[0;34m:\u001b[0m\u001b[0;34m\u001b[0m\u001b[0;34m\u001b[0m\u001b[0m\n",
      "\u001b[0;32m/opt/conda/lib/python3.7/site-packages/keras/applications/imagenet_utils.py\u001b[0m in \u001b[0;36mobtain_input_shape\u001b[0;34m(input_shape, default_size, min_size, data_format, require_flatten, weights)\u001b[0m\n\u001b[1;32m    343\u001b[0m         raise ValueError('When setting `include_top=True` '\n\u001b[1;32m    344\u001b[0m                          \u001b[0;34m'and loading `imagenet` weights, '\u001b[0m\u001b[0;34m\u001b[0m\u001b[0;34m\u001b[0m\u001b[0m\n\u001b[0;32m--> 345\u001b[0;31m                          '`input_shape` should be ' + str(default_shape) + '.')\n\u001b[0m\u001b[1;32m    346\u001b[0m     \u001b[0;32mreturn\u001b[0m \u001b[0mdefault_shape\u001b[0m\u001b[0;34m\u001b[0m\u001b[0;34m\u001b[0m\u001b[0m\n\u001b[1;32m    347\u001b[0m   \u001b[0;32mif\u001b[0m \u001b[0minput_shape\u001b[0m\u001b[0;34m:\u001b[0m\u001b[0;34m\u001b[0m\u001b[0;34m\u001b[0m\u001b[0m\n",
      "\u001b[0;31mValueError\u001b[0m: When setting `include_top=True` and loading `imagenet` weights, `input_shape` should be (224, 224, 3)."
     ]
    }
   ],
   "source": [
    "model = tf.keras.applications.resnet50.ResNet50()\n"
   ]
  },
  {
   "cell_type": "code",
   "execution_count": 19,
   "id": "e9391695-76af-4e73-a81f-ecbbccf9e987",
   "metadata": {},
   "outputs": [],
   "source": [
    "model.compile(\n",
    "    optimizer = tf.keras.optimizers.Adam(), \n",
    "    loss = tf.keras.losses.BinaryCrossentropy(), \n",
    "    metrics=[\"accuracy\"]\n",
    ")"
   ]
  },
  {
   "cell_type": "code",
   "execution_count": 20,
   "id": "901b08b5-9b78-48cb-aaca-a49c89bb3942",
   "metadata": {},
   "outputs": [
    {
     "name": "stdout",
     "output_type": "stream",
     "text": [
      "Epoch 1/10\n"
     ]
    },
    {
     "name": "stderr",
     "output_type": "stream",
     "text": [
      "2022-12-05 21:59:52.744570: I tensorflow/compiler/mlir/mlir_graph_optimization_pass.cc:185] None of the MLIR Optimization Passes are enabled (registered 2)\n"
     ]
    },
    {
     "ename": "ValueError",
     "evalue": "in user code:\n\n    /opt/conda/lib/python3.7/site-packages/keras/engine/training.py:853 train_function  *\n        return step_function(self, iterator)\n    /opt/conda/lib/python3.7/site-packages/keras/engine/training.py:842 step_function  **\n        outputs = model.distribute_strategy.run(run_step, args=(data,))\n    /opt/conda/lib/python3.7/site-packages/tensorflow/python/distribute/distribute_lib.py:1286 run\n        return self._extended.call_for_each_replica(fn, args=args, kwargs=kwargs)\n    /opt/conda/lib/python3.7/site-packages/tensorflow/python/distribute/distribute_lib.py:2849 call_for_each_replica\n        return self._call_for_each_replica(fn, args, kwargs)\n    /opt/conda/lib/python3.7/site-packages/tensorflow/python/distribute/distribute_lib.py:3632 _call_for_each_replica\n        return fn(*args, **kwargs)\n    /opt/conda/lib/python3.7/site-packages/keras/engine/training.py:835 run_step  **\n        outputs = model.train_step(data)\n    /opt/conda/lib/python3.7/site-packages/keras/engine/training.py:787 train_step\n        y_pred = self(x, training=True)\n    /opt/conda/lib/python3.7/site-packages/keras/engine/base_layer.py:1020 __call__\n        input_spec.assert_input_compatibility(self.input_spec, inputs, self.name)\n    /opt/conda/lib/python3.7/site-packages/keras/engine/input_spec.py:269 assert_input_compatibility\n        ', found shape=' + display_shape(x.shape))\n\n    ValueError: Input 0 is incompatible with layer resnet50: expected shape=(None, 224, 224, 3), found shape=(None, 529)\n",
     "output_type": "error",
     "traceback": [
      "\u001b[0;31m---------------------------------------------------------------------------\u001b[0m",
      "\u001b[0;31mValueError\u001b[0m                                Traceback (most recent call last)",
      "\u001b[0;32m/tmp/ipykernel_1691/2931654128.py\u001b[0m in \u001b[0;36m<module>\u001b[0;34m\u001b[0m\n\u001b[1;32m      2\u001b[0m     \u001b[0mX\u001b[0m\u001b[0;34m,\u001b[0m\u001b[0;34m\u001b[0m\u001b[0;34m\u001b[0m\u001b[0m\n\u001b[1;32m      3\u001b[0m     \u001b[0mY\u001b[0m\u001b[0;34m,\u001b[0m\u001b[0;34m\u001b[0m\u001b[0;34m\u001b[0m\u001b[0m\n\u001b[0;32m----> 4\u001b[0;31m     \u001b[0mepochs\u001b[0m \u001b[0;34m=\u001b[0m \u001b[0;36m10\u001b[0m\u001b[0;34m\u001b[0m\u001b[0;34m\u001b[0m\u001b[0m\n\u001b[0m\u001b[1;32m      5\u001b[0m )\n",
      "\u001b[0;32m/opt/conda/lib/python3.7/site-packages/keras/engine/training.py\u001b[0m in \u001b[0;36mfit\u001b[0;34m(self, x, y, batch_size, epochs, verbose, callbacks, validation_split, validation_data, shuffle, class_weight, sample_weight, initial_epoch, steps_per_epoch, validation_steps, validation_batch_size, validation_freq, max_queue_size, workers, use_multiprocessing)\u001b[0m\n\u001b[1;32m   1182\u001b[0m                 _r=1):\n\u001b[1;32m   1183\u001b[0m               \u001b[0mcallbacks\u001b[0m\u001b[0;34m.\u001b[0m\u001b[0mon_train_batch_begin\u001b[0m\u001b[0;34m(\u001b[0m\u001b[0mstep\u001b[0m\u001b[0;34m)\u001b[0m\u001b[0;34m\u001b[0m\u001b[0;34m\u001b[0m\u001b[0m\n\u001b[0;32m-> 1184\u001b[0;31m               \u001b[0mtmp_logs\u001b[0m \u001b[0;34m=\u001b[0m \u001b[0mself\u001b[0m\u001b[0;34m.\u001b[0m\u001b[0mtrain_function\u001b[0m\u001b[0;34m(\u001b[0m\u001b[0miterator\u001b[0m\u001b[0;34m)\u001b[0m\u001b[0;34m\u001b[0m\u001b[0;34m\u001b[0m\u001b[0m\n\u001b[0m\u001b[1;32m   1185\u001b[0m               \u001b[0;32mif\u001b[0m \u001b[0mdata_handler\u001b[0m\u001b[0;34m.\u001b[0m\u001b[0mshould_sync\u001b[0m\u001b[0;34m:\u001b[0m\u001b[0;34m\u001b[0m\u001b[0;34m\u001b[0m\u001b[0m\n\u001b[1;32m   1186\u001b[0m                 \u001b[0mcontext\u001b[0m\u001b[0;34m.\u001b[0m\u001b[0masync_wait\u001b[0m\u001b[0;34m(\u001b[0m\u001b[0;34m)\u001b[0m\u001b[0;34m\u001b[0m\u001b[0;34m\u001b[0m\u001b[0m\n",
      "\u001b[0;32m/opt/conda/lib/python3.7/site-packages/tensorflow/python/eager/def_function.py\u001b[0m in \u001b[0;36m__call__\u001b[0;34m(self, *args, **kwds)\u001b[0m\n\u001b[1;32m    883\u001b[0m \u001b[0;34m\u001b[0m\u001b[0m\n\u001b[1;32m    884\u001b[0m       \u001b[0;32mwith\u001b[0m \u001b[0mOptionalXlaContext\u001b[0m\u001b[0;34m(\u001b[0m\u001b[0mself\u001b[0m\u001b[0;34m.\u001b[0m\u001b[0m_jit_compile\u001b[0m\u001b[0;34m)\u001b[0m\u001b[0;34m:\u001b[0m\u001b[0;34m\u001b[0m\u001b[0;34m\u001b[0m\u001b[0m\n\u001b[0;32m--> 885\u001b[0;31m         \u001b[0mresult\u001b[0m \u001b[0;34m=\u001b[0m \u001b[0mself\u001b[0m\u001b[0;34m.\u001b[0m\u001b[0m_call\u001b[0m\u001b[0;34m(\u001b[0m\u001b[0;34m*\u001b[0m\u001b[0margs\u001b[0m\u001b[0;34m,\u001b[0m \u001b[0;34m**\u001b[0m\u001b[0mkwds\u001b[0m\u001b[0;34m)\u001b[0m\u001b[0;34m\u001b[0m\u001b[0;34m\u001b[0m\u001b[0m\n\u001b[0m\u001b[1;32m    886\u001b[0m \u001b[0;34m\u001b[0m\u001b[0m\n\u001b[1;32m    887\u001b[0m       \u001b[0mnew_tracing_count\u001b[0m \u001b[0;34m=\u001b[0m \u001b[0mself\u001b[0m\u001b[0;34m.\u001b[0m\u001b[0mexperimental_get_tracing_count\u001b[0m\u001b[0;34m(\u001b[0m\u001b[0;34m)\u001b[0m\u001b[0;34m\u001b[0m\u001b[0;34m\u001b[0m\u001b[0m\n",
      "\u001b[0;32m/opt/conda/lib/python3.7/site-packages/tensorflow/python/eager/def_function.py\u001b[0m in \u001b[0;36m_call\u001b[0;34m(self, *args, **kwds)\u001b[0m\n\u001b[1;32m    931\u001b[0m       \u001b[0;31m# This is the first call of __call__, so we have to initialize.\u001b[0m\u001b[0;34m\u001b[0m\u001b[0;34m\u001b[0m\u001b[0;34m\u001b[0m\u001b[0m\n\u001b[1;32m    932\u001b[0m       \u001b[0minitializers\u001b[0m \u001b[0;34m=\u001b[0m \u001b[0;34m[\u001b[0m\u001b[0;34m]\u001b[0m\u001b[0;34m\u001b[0m\u001b[0;34m\u001b[0m\u001b[0m\n\u001b[0;32m--> 933\u001b[0;31m       \u001b[0mself\u001b[0m\u001b[0;34m.\u001b[0m\u001b[0m_initialize\u001b[0m\u001b[0;34m(\u001b[0m\u001b[0margs\u001b[0m\u001b[0;34m,\u001b[0m \u001b[0mkwds\u001b[0m\u001b[0;34m,\u001b[0m \u001b[0madd_initializers_to\u001b[0m\u001b[0;34m=\u001b[0m\u001b[0minitializers\u001b[0m\u001b[0;34m)\u001b[0m\u001b[0;34m\u001b[0m\u001b[0;34m\u001b[0m\u001b[0m\n\u001b[0m\u001b[1;32m    934\u001b[0m     \u001b[0;32mfinally\u001b[0m\u001b[0;34m:\u001b[0m\u001b[0;34m\u001b[0m\u001b[0;34m\u001b[0m\u001b[0m\n\u001b[1;32m    935\u001b[0m       \u001b[0;31m# At this point we know that the initialization is complete (or less\u001b[0m\u001b[0;34m\u001b[0m\u001b[0;34m\u001b[0m\u001b[0;34m\u001b[0m\u001b[0m\n",
      "\u001b[0;32m/opt/conda/lib/python3.7/site-packages/tensorflow/python/eager/def_function.py\u001b[0m in \u001b[0;36m_initialize\u001b[0;34m(self, args, kwds, add_initializers_to)\u001b[0m\n\u001b[1;32m    758\u001b[0m     self._concrete_stateful_fn = (\n\u001b[1;32m    759\u001b[0m         self._stateful_fn._get_concrete_function_internal_garbage_collected(  # pylint: disable=protected-access\n\u001b[0;32m--> 760\u001b[0;31m             *args, **kwds))\n\u001b[0m\u001b[1;32m    761\u001b[0m \u001b[0;34m\u001b[0m\u001b[0m\n\u001b[1;32m    762\u001b[0m     \u001b[0;32mdef\u001b[0m \u001b[0minvalid_creator_scope\u001b[0m\u001b[0;34m(\u001b[0m\u001b[0;34m*\u001b[0m\u001b[0munused_args\u001b[0m\u001b[0;34m,\u001b[0m \u001b[0;34m**\u001b[0m\u001b[0munused_kwds\u001b[0m\u001b[0;34m)\u001b[0m\u001b[0;34m:\u001b[0m\u001b[0;34m\u001b[0m\u001b[0;34m\u001b[0m\u001b[0m\n",
      "\u001b[0;32m/opt/conda/lib/python3.7/site-packages/tensorflow/python/eager/function.py\u001b[0m in \u001b[0;36m_get_concrete_function_internal_garbage_collected\u001b[0;34m(self, *args, **kwargs)\u001b[0m\n\u001b[1;32m   3064\u001b[0m       \u001b[0margs\u001b[0m\u001b[0;34m,\u001b[0m \u001b[0mkwargs\u001b[0m \u001b[0;34m=\u001b[0m \u001b[0;32mNone\u001b[0m\u001b[0;34m,\u001b[0m \u001b[0;32mNone\u001b[0m\u001b[0;34m\u001b[0m\u001b[0;34m\u001b[0m\u001b[0m\n\u001b[1;32m   3065\u001b[0m     \u001b[0;32mwith\u001b[0m \u001b[0mself\u001b[0m\u001b[0;34m.\u001b[0m\u001b[0m_lock\u001b[0m\u001b[0;34m:\u001b[0m\u001b[0;34m\u001b[0m\u001b[0;34m\u001b[0m\u001b[0m\n\u001b[0;32m-> 3066\u001b[0;31m       \u001b[0mgraph_function\u001b[0m\u001b[0;34m,\u001b[0m \u001b[0m_\u001b[0m \u001b[0;34m=\u001b[0m \u001b[0mself\u001b[0m\u001b[0;34m.\u001b[0m\u001b[0m_maybe_define_function\u001b[0m\u001b[0;34m(\u001b[0m\u001b[0margs\u001b[0m\u001b[0;34m,\u001b[0m \u001b[0mkwargs\u001b[0m\u001b[0;34m)\u001b[0m\u001b[0;34m\u001b[0m\u001b[0;34m\u001b[0m\u001b[0m\n\u001b[0m\u001b[1;32m   3067\u001b[0m     \u001b[0;32mreturn\u001b[0m \u001b[0mgraph_function\u001b[0m\u001b[0;34m\u001b[0m\u001b[0;34m\u001b[0m\u001b[0m\n\u001b[1;32m   3068\u001b[0m \u001b[0;34m\u001b[0m\u001b[0m\n",
      "\u001b[0;32m/opt/conda/lib/python3.7/site-packages/tensorflow/python/eager/function.py\u001b[0m in \u001b[0;36m_maybe_define_function\u001b[0;34m(self, args, kwargs)\u001b[0m\n\u001b[1;32m   3461\u001b[0m \u001b[0;34m\u001b[0m\u001b[0m\n\u001b[1;32m   3462\u001b[0m           \u001b[0mself\u001b[0m\u001b[0;34m.\u001b[0m\u001b[0m_function_cache\u001b[0m\u001b[0;34m.\u001b[0m\u001b[0mmissed\u001b[0m\u001b[0;34m.\u001b[0m\u001b[0madd\u001b[0m\u001b[0;34m(\u001b[0m\u001b[0mcall_context_key\u001b[0m\u001b[0;34m)\u001b[0m\u001b[0;34m\u001b[0m\u001b[0;34m\u001b[0m\u001b[0m\n\u001b[0;32m-> 3463\u001b[0;31m           \u001b[0mgraph_function\u001b[0m \u001b[0;34m=\u001b[0m \u001b[0mself\u001b[0m\u001b[0;34m.\u001b[0m\u001b[0m_create_graph_function\u001b[0m\u001b[0;34m(\u001b[0m\u001b[0margs\u001b[0m\u001b[0;34m,\u001b[0m \u001b[0mkwargs\u001b[0m\u001b[0;34m)\u001b[0m\u001b[0;34m\u001b[0m\u001b[0;34m\u001b[0m\u001b[0m\n\u001b[0m\u001b[1;32m   3464\u001b[0m           \u001b[0mself\u001b[0m\u001b[0;34m.\u001b[0m\u001b[0m_function_cache\u001b[0m\u001b[0;34m.\u001b[0m\u001b[0mprimary\u001b[0m\u001b[0;34m[\u001b[0m\u001b[0mcache_key\u001b[0m\u001b[0;34m]\u001b[0m \u001b[0;34m=\u001b[0m \u001b[0mgraph_function\u001b[0m\u001b[0;34m\u001b[0m\u001b[0;34m\u001b[0m\u001b[0m\n\u001b[1;32m   3465\u001b[0m \u001b[0;34m\u001b[0m\u001b[0m\n",
      "\u001b[0;32m/opt/conda/lib/python3.7/site-packages/tensorflow/python/eager/function.py\u001b[0m in \u001b[0;36m_create_graph_function\u001b[0;34m(self, args, kwargs, override_flat_arg_shapes)\u001b[0m\n\u001b[1;32m   3306\u001b[0m             \u001b[0marg_names\u001b[0m\u001b[0;34m=\u001b[0m\u001b[0marg_names\u001b[0m\u001b[0;34m,\u001b[0m\u001b[0;34m\u001b[0m\u001b[0;34m\u001b[0m\u001b[0m\n\u001b[1;32m   3307\u001b[0m             \u001b[0moverride_flat_arg_shapes\u001b[0m\u001b[0;34m=\u001b[0m\u001b[0moverride_flat_arg_shapes\u001b[0m\u001b[0;34m,\u001b[0m\u001b[0;34m\u001b[0m\u001b[0;34m\u001b[0m\u001b[0m\n\u001b[0;32m-> 3308\u001b[0;31m             capture_by_value=self._capture_by_value),\n\u001b[0m\u001b[1;32m   3309\u001b[0m         \u001b[0mself\u001b[0m\u001b[0;34m.\u001b[0m\u001b[0m_function_attributes\u001b[0m\u001b[0;34m,\u001b[0m\u001b[0;34m\u001b[0m\u001b[0;34m\u001b[0m\u001b[0m\n\u001b[1;32m   3310\u001b[0m         \u001b[0mfunction_spec\u001b[0m\u001b[0;34m=\u001b[0m\u001b[0mself\u001b[0m\u001b[0;34m.\u001b[0m\u001b[0mfunction_spec\u001b[0m\u001b[0;34m,\u001b[0m\u001b[0;34m\u001b[0m\u001b[0;34m\u001b[0m\u001b[0m\n",
      "\u001b[0;32m/opt/conda/lib/python3.7/site-packages/tensorflow/python/framework/func_graph.py\u001b[0m in \u001b[0;36mfunc_graph_from_py_func\u001b[0;34m(name, python_func, args, kwargs, signature, func_graph, autograph, autograph_options, add_control_dependencies, arg_names, op_return_value, collections, capture_by_value, override_flat_arg_shapes, acd_record_initial_resource_uses)\u001b[0m\n\u001b[1;32m   1005\u001b[0m         \u001b[0m_\u001b[0m\u001b[0;34m,\u001b[0m \u001b[0moriginal_func\u001b[0m \u001b[0;34m=\u001b[0m \u001b[0mtf_decorator\u001b[0m\u001b[0;34m.\u001b[0m\u001b[0munwrap\u001b[0m\u001b[0;34m(\u001b[0m\u001b[0mpython_func\u001b[0m\u001b[0;34m)\u001b[0m\u001b[0;34m\u001b[0m\u001b[0;34m\u001b[0m\u001b[0m\n\u001b[1;32m   1006\u001b[0m \u001b[0;34m\u001b[0m\u001b[0m\n\u001b[0;32m-> 1007\u001b[0;31m       \u001b[0mfunc_outputs\u001b[0m \u001b[0;34m=\u001b[0m \u001b[0mpython_func\u001b[0m\u001b[0;34m(\u001b[0m\u001b[0;34m*\u001b[0m\u001b[0mfunc_args\u001b[0m\u001b[0;34m,\u001b[0m \u001b[0;34m**\u001b[0m\u001b[0mfunc_kwargs\u001b[0m\u001b[0;34m)\u001b[0m\u001b[0;34m\u001b[0m\u001b[0;34m\u001b[0m\u001b[0m\n\u001b[0m\u001b[1;32m   1008\u001b[0m \u001b[0;34m\u001b[0m\u001b[0m\n\u001b[1;32m   1009\u001b[0m       \u001b[0;31m# invariant: `func_outputs` contains only Tensors, CompositeTensors,\u001b[0m\u001b[0;34m\u001b[0m\u001b[0;34m\u001b[0m\u001b[0;34m\u001b[0m\u001b[0m\n",
      "\u001b[0;32m/opt/conda/lib/python3.7/site-packages/tensorflow/python/eager/def_function.py\u001b[0m in \u001b[0;36mwrapped_fn\u001b[0;34m(*args, **kwds)\u001b[0m\n\u001b[1;32m    666\u001b[0m         \u001b[0;31m# the function a weak reference to itself to avoid a reference cycle.\u001b[0m\u001b[0;34m\u001b[0m\u001b[0;34m\u001b[0m\u001b[0;34m\u001b[0m\u001b[0m\n\u001b[1;32m    667\u001b[0m         \u001b[0;32mwith\u001b[0m \u001b[0mOptionalXlaContext\u001b[0m\u001b[0;34m(\u001b[0m\u001b[0mcompile_with_xla\u001b[0m\u001b[0;34m)\u001b[0m\u001b[0;34m:\u001b[0m\u001b[0;34m\u001b[0m\u001b[0;34m\u001b[0m\u001b[0m\n\u001b[0;32m--> 668\u001b[0;31m           \u001b[0mout\u001b[0m \u001b[0;34m=\u001b[0m \u001b[0mweak_wrapped_fn\u001b[0m\u001b[0;34m(\u001b[0m\u001b[0;34m)\u001b[0m\u001b[0;34m.\u001b[0m\u001b[0m__wrapped__\u001b[0m\u001b[0;34m(\u001b[0m\u001b[0;34m*\u001b[0m\u001b[0margs\u001b[0m\u001b[0;34m,\u001b[0m \u001b[0;34m**\u001b[0m\u001b[0mkwds\u001b[0m\u001b[0;34m)\u001b[0m\u001b[0;34m\u001b[0m\u001b[0;34m\u001b[0m\u001b[0m\n\u001b[0m\u001b[1;32m    669\u001b[0m         \u001b[0;32mreturn\u001b[0m \u001b[0mout\u001b[0m\u001b[0;34m\u001b[0m\u001b[0;34m\u001b[0m\u001b[0m\n\u001b[1;32m    670\u001b[0m \u001b[0;34m\u001b[0m\u001b[0m\n",
      "\u001b[0;32m/opt/conda/lib/python3.7/site-packages/tensorflow/python/framework/func_graph.py\u001b[0m in \u001b[0;36mwrapper\u001b[0;34m(*args, **kwargs)\u001b[0m\n\u001b[1;32m    992\u001b[0m           \u001b[0;32mexcept\u001b[0m \u001b[0mException\u001b[0m \u001b[0;32mas\u001b[0m \u001b[0me\u001b[0m\u001b[0;34m:\u001b[0m  \u001b[0;31m# pylint:disable=broad-except\u001b[0m\u001b[0;34m\u001b[0m\u001b[0;34m\u001b[0m\u001b[0m\n\u001b[1;32m    993\u001b[0m             \u001b[0;32mif\u001b[0m \u001b[0mhasattr\u001b[0m\u001b[0;34m(\u001b[0m\u001b[0me\u001b[0m\u001b[0;34m,\u001b[0m \u001b[0;34m\"ag_error_metadata\"\u001b[0m\u001b[0;34m)\u001b[0m\u001b[0;34m:\u001b[0m\u001b[0;34m\u001b[0m\u001b[0;34m\u001b[0m\u001b[0m\n\u001b[0;32m--> 994\u001b[0;31m               \u001b[0;32mraise\u001b[0m \u001b[0me\u001b[0m\u001b[0;34m.\u001b[0m\u001b[0mag_error_metadata\u001b[0m\u001b[0;34m.\u001b[0m\u001b[0mto_exception\u001b[0m\u001b[0;34m(\u001b[0m\u001b[0me\u001b[0m\u001b[0;34m)\u001b[0m\u001b[0;34m\u001b[0m\u001b[0;34m\u001b[0m\u001b[0m\n\u001b[0m\u001b[1;32m    995\u001b[0m             \u001b[0;32melse\u001b[0m\u001b[0;34m:\u001b[0m\u001b[0;34m\u001b[0m\u001b[0;34m\u001b[0m\u001b[0m\n\u001b[1;32m    996\u001b[0m               \u001b[0;32mraise\u001b[0m\u001b[0;34m\u001b[0m\u001b[0;34m\u001b[0m\u001b[0m\n",
      "\u001b[0;31mValueError\u001b[0m: in user code:\n\n    /opt/conda/lib/python3.7/site-packages/keras/engine/training.py:853 train_function  *\n        return step_function(self, iterator)\n    /opt/conda/lib/python3.7/site-packages/keras/engine/training.py:842 step_function  **\n        outputs = model.distribute_strategy.run(run_step, args=(data,))\n    /opt/conda/lib/python3.7/site-packages/tensorflow/python/distribute/distribute_lib.py:1286 run\n        return self._extended.call_for_each_replica(fn, args=args, kwargs=kwargs)\n    /opt/conda/lib/python3.7/site-packages/tensorflow/python/distribute/distribute_lib.py:2849 call_for_each_replica\n        return self._call_for_each_replica(fn, args, kwargs)\n    /opt/conda/lib/python3.7/site-packages/tensorflow/python/distribute/distribute_lib.py:3632 _call_for_each_replica\n        return fn(*args, **kwargs)\n    /opt/conda/lib/python3.7/site-packages/keras/engine/training.py:835 run_step  **\n        outputs = model.train_step(data)\n    /opt/conda/lib/python3.7/site-packages/keras/engine/training.py:787 train_step\n        y_pred = self(x, training=True)\n    /opt/conda/lib/python3.7/site-packages/keras/engine/base_layer.py:1020 __call__\n        input_spec.assert_input_compatibility(self.input_spec, inputs, self.name)\n    /opt/conda/lib/python3.7/site-packages/keras/engine/input_spec.py:269 assert_input_compatibility\n        ', found shape=' + display_shape(x.shape))\n\n    ValueError: Input 0 is incompatible with layer resnet50: expected shape=(None, 224, 224, 3), found shape=(None, 529)\n"
     ]
    }
   ],
   "source": [
    "model.fit(\n",
    "    X, \n",
    "    Y,\n",
    "    epochs = 10\n",
    ")"
   ]
  }
 ],
 "metadata": {
  "environment": {
   "kernel": "python3",
   "name": "tf2-gpu.2-6.m100",
   "type": "gcloud",
   "uri": "gcr.io/deeplearning-platform-release/tf2-gpu.2-6:m100"
  },
  "kernelspec": {
   "display_name": "Python 3",
   "language": "python",
   "name": "python3"
  },
  "language_info": {
   "codemirror_mode": {
    "name": "ipython",
    "version": 3
   },
   "file_extension": ".py",
   "mimetype": "text/x-python",
   "name": "python",
   "nbconvert_exporter": "python",
   "pygments_lexer": "ipython3",
   "version": "3.7.12"
  }
 },
 "nbformat": 4,
 "nbformat_minor": 5
}
